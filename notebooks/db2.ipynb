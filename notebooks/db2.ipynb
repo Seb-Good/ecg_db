{
 "cells": [
  {
   "cell_type": "markdown",
   "metadata": {},
   "source": [
    "# ECG DB 2 - MIT-BIH Atrial Fibrillation\n",
    "### Sebastian D. Goodfellow, Ph.D."
   ]
  },
  {
   "cell_type": "markdown",
   "metadata": {},
   "source": [
    "# Setup Notebook"
   ]
  },
  {
   "cell_type": "code",
   "execution_count": 1,
   "metadata": {},
   "outputs": [],
   "source": [
    "# Import 3rd party libraries\n",
    "import os\n",
    "import sys\n",
    "import wfdb\n",
    "import numpy as np\n",
    "import pandas as pd\n",
    "from scipy import interpolate\n",
    "import matplotlib.pylab as plt\n",
    "\n",
    "# Import local Libraries\n",
    "sys.path.insert(0, r'C:\\Users\\sebig\\Documents\\Code\\ecg_db')\n",
    "from ecgdb.config.config import DATA_DIR\n",
    "\n",
    "# Configure Notebook\n",
    "import warnings\n",
    "warnings.filterwarnings('ignore')\n",
    "%matplotlib inline\n",
    "%load_ext autoreload\n",
    "%autoreload 2"
   ]
  },
  {
   "cell_type": "markdown",
   "metadata": {},
   "source": [
    "# Download Dataset"
   ]
  },
  {
   "cell_type": "code",
   "execution_count": 2,
   "metadata": {},
   "outputs": [
    {
     "name": "stdout",
     "output_type": "stream",
     "text": [
      "['04015', '04043', '04048', '04126', '04746', '04908', '04936', '05091', '05121', '05261', '06426', '06453', '06995', '07162', '07859', '07879', '07910', '08215', '08219', '08378', '08405', '08434', '08455']\n"
     ]
    }
   ],
   "source": [
    "# Set database name\n",
    "db_name = 'db2'\n",
    "\n",
    "# Set raw data path\n",
    "raw_path = os.path.join(DATA_DIR, db_name, 'raw')\n",
    "\n",
    "# Download data set\n",
    "# wfdb.dl_database('afdb', raw_path)\n",
    "\n",
    "# Get list of recordings\n",
    "recording_ids = [file.split('.')[0] for file in os.listdir(raw_path) if '.dat' in file]\n",
    "\n",
    "# Print list of recordings\n",
    "print(recording_ids)\n",
    "\n",
    "# Labels \n",
    "label_dict = {'AFIB': 'atrial fibrillation', 'AFL': 'atrial flutter', 'J': 'AV junctional rhythm'}\n",
    "\n",
    "# Get sample frequency (Hz)\n",
    "record = wfdb.rdrecord(os.path.join(raw_path, recording_ids[0]))\n",
    "fs = record.__dict__['fs']"
   ]
  },
  {
   "cell_type": "markdown",
   "metadata": {},
   "source": [
    "# Get Continuous Arrhythmia Sections"
   ]
  },
  {
   "cell_type": "code",
   "execution_count": 3,
   "metadata": {
    "scrolled": false
   },
   "outputs": [],
   "source": [
    "# Empty dictionary for arrhythmia sections\n",
    "sections = list()\n",
    "\n",
    "# Loop through recordings\n",
    "for recording_id in recording_ids:\n",
    "    \n",
    "    # Import recording\n",
    "    record = wfdb.rdrecord(os.path.join(raw_path, recording_id))\n",
    "    \n",
    "    # Import annotations\n",
    "    annotation = wfdb.rdann(os.path.join(raw_path, recording_id), 'atr')\n",
    "    \n",
    "    # Get waveform data\n",
    "    data = record.__dict__['p_signal']\n",
    "    \n",
    "    # labels\n",
    "    labels = [label[1:] for label in annotation.__dict__['aux_note']]\n",
    "    \n",
    "    # Samples\n",
    "    sample = annotation.__dict__['sample']\n",
    "    \n",
    "    # Loop through labels\n",
    "    for idx, label in enumerate(labels):\n",
    "        \n",
    "        if any(label in val for val in list(label_dict.keys())):\n",
    "            \n",
    "            if idx != len(labels) - 1:\n",
    "                sections.append({'label': label, 'waveform': 1, 'record': recording_id,\n",
    "                                 'db': 'afdb', 'data': data[sample[idx]:sample[idx + 1], 0]})\n",
    "                sections.append({'label': label, 'waveform': 2, 'record': recording_id,\n",
    "                                 'db': 'afdb', 'data': data[sample[idx]:sample[idx + 1], 1]})\n",
    "                \n",
    "            elif idx == len(labels) - 1:\n",
    "                sections.append({'label': label, 'waveform': 1, 'record': recording_id,\n",
    "                                 'db': 'afdb', 'data': data[sample[idx]:, 0]})\n",
    "                sections.append({'label': label, 'waveform': 2, 'record': recording_id,\n",
    "                                 'db': 'afdb', 'data': data[sample[idx]:, 1]})"
   ]
  },
  {
   "cell_type": "markdown",
   "metadata": {},
   "source": [
    "# Get Samples"
   ]
  },
  {
   "cell_type": "code",
   "execution_count": 4,
   "metadata": {},
   "outputs": [],
   "source": [
    "# Empty dictionary for arrhythmia samples\n",
    "samples = list()\n",
    "\n",
    "# Set sample length in seconds\n",
    "sample_length = 60 \n",
    "\n",
    "# Get sample length in sample points\n",
    "sample_length_sp = sample_length * fs\n",
    "\n",
    "# Loop through sections\n",
    "for section in sections:\n",
    "    \n",
    "    # Set index\n",
    "    idx = 0\n",
    "    \n",
    "    # Get number of samples in section\n",
    "    num_samples = int(np.ceil(len(section['data']) / sample_length_sp))\n",
    "    \n",
    "    # Loop through samples\n",
    "    for sample_id in range(num_samples):\n",
    "        \n",
    "        # Get sample\n",
    "        if sample_id != num_samples - 1:\n",
    "            samples.append({'label': section['label'], 'waveform': section['waveform'], 'record': section['record'],\n",
    "                            'sample': sample_id, 'db': section['db'], 'data': section['data'][idx:idx + sample_length_sp]})\n",
    "            idx += sample_length_sp\n",
    "            \n",
    "        elif sample_id == num_samples - 1:\n",
    "            samples.append({'label': section['label'], 'waveform': section['waveform'], 'record': section['record'],\n",
    "                            'sample': sample_id, 'db': section['db'], 'data': section['data'][idx:]})"
   ]
  },
  {
   "cell_type": "markdown",
   "metadata": {},
   "source": [
    "# Resample"
   ]
  },
  {
   "cell_type": "code",
   "execution_count": 5,
   "metadata": {},
   "outputs": [],
   "source": [
    "# Set resample frequency (Hz)\n",
    "fs_rs = 300\n",
    "\n",
    "# Get time array\n",
    "time = np.arange(sample_length_sp) * 1 / fs\n",
    "\n",
    "# Loop through samples\n",
    "for idx, sample in enumerate(samples):\n",
    "    \n",
    "    # Get time array\n",
    "    time = np.arange(len(sample['data'])) * 1 / fs\n",
    "\n",
    "    # Generate new resampling time array\n",
    "    times_rs = np.arange(0, time[-1], 1 / fs_rs)\n",
    "\n",
    "    # Setup interpolation function\n",
    "    interp_func = interpolate.interp1d(x=time, y=sample['data'], kind='linear')\n",
    "\n",
    "    # Interpolate contiguous segment\n",
    "    values_rs = interp_func(times_rs)\n",
    "    \n",
    "    # Save resampled waveform\n",
    "    samples[idx]['data'] = values_rs"
   ]
  },
  {
   "cell_type": "markdown",
   "metadata": {},
   "source": [
    "# Save Training Dataset"
   ]
  },
  {
   "cell_type": "code",
   "execution_count": 6,
   "metadata": {
    "scrolled": false
   },
   "outputs": [],
   "source": [
    "# Set processed data path\n",
    "processed_path = os.path.join(DATA_DIR, db_name, 'processed')\n",
    "\n",
    "# Create empty DataFrame\n",
    "labels = pd.DataFrame(data=[], columns=['db', 'record', 'label', 'sample', 'signal_id', 'train_label', 'file_name'])\n",
    "\n",
    "# Loop through samples\n",
    "for idx, sample in enumerate(samples):\n",
    "\n",
    "    # Set file name\n",
    "    file_name = '{}_{}_signal{}_sample{}.npy'.format(sample['db'], sample['record'], sample['waveform'], sample['sample'])\n",
    "    \n",
    "    # Get labels\n",
    "    labels = labels.append(pd.Series({'db': sample['db'], 'record': sample['record'], 'label': sample['label'], \n",
    "                                      'sample': sample['sample'], 'signal_id': sample['waveform'], \n",
    "                                      'train_label': 'A' if sample['label'] == 'AFIB' else 'O', \n",
    "                                      'file_name': file_name}), ignore_index=True)\n",
    "    \n",
    "    # Save waveform as .npy\n",
    "    np.save(os.path.join(processed_path, 'waveforms', file_name), sample['data'])\n",
    "    \n",
    "# Save labels\n",
    "labels.to_csv(os.path.join(processed_path, 'labels', 'labels.csv'), index=False)"
   ]
  }
 ],
 "metadata": {
  "kernelspec": {
   "display_name": "Python 3",
   "language": "python",
   "name": "python3"
  },
  "language_info": {
   "codemirror_mode": {
    "name": "ipython",
    "version": 3
   },
   "file_extension": ".py",
   "mimetype": "text/x-python",
   "name": "python",
   "nbconvert_exporter": "python",
   "pygments_lexer": "ipython3",
   "version": "3.6.7"
  }
 },
 "nbformat": 4,
 "nbformat_minor": 2
}
