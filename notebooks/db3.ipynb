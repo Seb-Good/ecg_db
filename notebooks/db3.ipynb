{
 "cells": [
  {
   "cell_type": "markdown",
   "metadata": {},
   "source": [
    "# ECG DB 3 - MIT-BIH Normal Sinus Rhythm \n",
    "### Sebastian D. Goodfellow, Ph.D."
   ]
  },
  {
   "cell_type": "markdown",
   "metadata": {},
   "source": [
    "# Setup Notebook"
   ]
  },
  {
   "cell_type": "code",
   "execution_count": 1,
   "metadata": {},
   "outputs": [],
   "source": [
    "# Import 3rd party libraries\n",
    "import os\n",
    "import sys\n",
    "import wfdb\n",
    "import numpy as np\n",
    "import pandas as pd\n",
    "from scipy import interpolate\n",
    "import matplotlib.pylab as plt\n",
    "\n",
    "# Import local Libraries\n",
    "sys.path.insert(0, r'C:\\Users\\sebig\\Documents\\Code\\ecg_db')\n",
    "from ecgdb.config.config import DATA_DIR\n",
    "\n",
    "# Configure Notebook\n",
    "import warnings\n",
    "warnings.filterwarnings('ignore')\n",
    "%matplotlib inline\n",
    "%load_ext autoreload\n",
    "%autoreload 2"
   ]
  },
  {
   "cell_type": "markdown",
   "metadata": {},
   "source": [
    "# Download Dataset"
   ]
  },
  {
   "cell_type": "code",
   "execution_count": 2,
   "metadata": {},
   "outputs": [
    {
     "name": "stdout",
     "output_type": "stream",
     "text": [
      "['16265', '16272', '16273', '16420', '16483', '16539', '16773', '16786', '16795', '17052', '17453', '18177', '18184', '19088', '19090', '19093', '19140', '19830']\n"
     ]
    }
   ],
   "source": [
    "# Set database name\n",
    "db_name = 'db3'\n",
    "\n",
    "# Set raw data path\n",
    "raw_path = os.path.join(DATA_DIR, db_name, 'raw')\n",
    "\n",
    "# Download data set\n",
    "# wfdb.dl_database('nsrdb', raw_path)\n",
    "\n",
    "# Get list of recordings\n",
    "recording_ids = [file.split('.')[0] for file in os.listdir(raw_path) if '.dat' in file]\n",
    "\n",
    "# Print list of recordings\n",
    "print(recording_ids)\n",
    "\n",
    "# Get sample frequency (Hz)\n",
    "record = wfdb.rdrecord(os.path.join(raw_path, recording_ids[0]))\n",
    "fs = record.__dict__['fs']"
   ]
  },
  {
   "cell_type": "markdown",
   "metadata": {},
   "source": [
    "# Get Continuous NSR Sections"
   ]
  },
  {
   "cell_type": "code",
   "execution_count": 3,
   "metadata": {},
   "outputs": [],
   "source": [
    "def contiguous_regions(condition):\n",
    "    \"\"\"Get start and stop indices contiguous NRS regions.\"\"\"\n",
    "    # Find the indices of changes in \"condition\"\n",
    "    d = np.diff(condition)\n",
    "    idx, = d.nonzero()\n",
    "\n",
    "    # Shift the index by 1 to the right\n",
    "    idx += 1\n",
    "\n",
    "    if condition[0]:\n",
    "        # If the start of condition is True prepend a 0\n",
    "        idx = np.r_[0, idx]\n",
    "\n",
    "    if condition[-1]:\n",
    "        # If the end of condition is True, append the length of the array\n",
    "        idx = np.r_[idx, condition.size]  # Edit\n",
    "\n",
    "    # Reshape the result into two columns\n",
    "    idx.shape = (-1, 2)\n",
    "\n",
    "    return idx"
   ]
  },
  {
   "cell_type": "code",
   "execution_count": 4,
   "metadata": {},
   "outputs": [],
   "source": [
    "# Empty dictionary for arrhythmia sections\n",
    "sections = list()\n",
    "\n",
    "# Set minimum labels per section\n",
    "min_labels = 10\n",
    "\n",
    "# Loop through recordings\n",
    "for recording_id in recording_ids[0:1]:\n",
    "    \n",
    "    # Import recording\n",
    "    record = wfdb.rdrecord(os.path.join(raw_path, recording_id))\n",
    "    \n",
    "    # Import annotations\n",
    "    annotation = wfdb.rdann(os.path.join(raw_path, recording_id), 'atr')\n",
    "    \n",
    "    # Get waveform data\n",
    "    data = record.__dict__['p_signal']\n",
    "    \n",
    "    # labels\n",
    "    labels = np.array(annotation.__dict__['symbol'])\n",
    "    \n",
    "    # Samples\n",
    "    sample = annotation.__dict__['sample']\n",
    "    \n",
    "    # Loop through labels\n",
    "    for start, stop in contiguous_regions(labels == 'N'):\n",
    "\n",
    "        if stop - start >= min_labels:\n",
    "        \n",
    "            sections.append({'label': 'N', 'waveform': 1, 'record': recording_id,\n",
    "                             'db': 'nsrdb', 'data': data[sample[start]:sample[stop - 1], 0]})\n",
    "            sections.append({'label': 'N', 'waveform': 2, 'record': recording_id,\n",
    "                             'db': 'nsrdb', 'data': data[sample[start]:sample[stop - 1], 1]})"
   ]
  },
  {
   "cell_type": "markdown",
   "metadata": {},
   "source": [
    "# Get Samples"
   ]
  },
  {
   "cell_type": "code",
   "execution_count": 5,
   "metadata": {},
   "outputs": [],
   "source": [
    "# Empty dictionary for arrhythmia samples\n",
    "samples = list()\n",
    "\n",
    "# Set sample length in seconds\n",
    "sample_length = 60 \n",
    "\n",
    "# Get sample length in sample points\n",
    "sample_length_sp = sample_length * fs\n",
    "\n",
    "# Loop through sections\n",
    "for section in sections:\n",
    "    \n",
    "    # Set index\n",
    "    idx = 0\n",
    "    \n",
    "    # Get number of samples in section\n",
    "    num_samples = int(np.ceil(len(section['data']) / sample_length_sp))\n",
    "    \n",
    "    # Loop through samples\n",
    "    for sample_id in range(num_samples):\n",
    "        \n",
    "        # Get sample\n",
    "        if sample_id != num_samples - 1:\n",
    "            samples.append({'label': section['label'], 'waveform': section['waveform'], 'record': section['record'],\n",
    "                            'sample': sample_id, 'db': section['db'], 'data': section['data'][idx:idx + sample_length_sp]})\n",
    "            idx += sample_length_sp\n",
    "            \n",
    "        elif sample_id == num_samples - 1:\n",
    "            samples.append({'label': section['label'], 'waveform': section['waveform'], 'record': section['record'],\n",
    "                            'sample': sample_id, 'db': section['db'], 'data': section['data'][idx:]})"
   ]
  },
  {
   "cell_type": "markdown",
   "metadata": {},
   "source": [
    "# Resample"
   ]
  },
  {
   "cell_type": "code",
   "execution_count": 6,
   "metadata": {},
   "outputs": [],
   "source": [
    "# Set resample frequency (Hz)\n",
    "fs_rs = 300\n",
    "\n",
    "# Get time array\n",
    "time = np.arange(sample_length_sp) * 1 / fs\n",
    "\n",
    "# Loop through samples\n",
    "for idx, sample in enumerate(samples):\n",
    "    \n",
    "    # Get time array\n",
    "    time = np.arange(len(sample['data'])) * 1 / fs\n",
    "\n",
    "    # Generate new resampling time array\n",
    "    times_rs = np.arange(0, time[-1], 1 / fs_rs)\n",
    "\n",
    "    # Setup interpolation function\n",
    "    interp_func = interpolate.interp1d(x=time, y=sample['data'], kind='linear')\n",
    "\n",
    "    # Interpolate contiguous segment\n",
    "    values_rs = interp_func(times_rs)\n",
    "    \n",
    "    # Save resampled waveform\n",
    "    samples[idx]['data'] = values_rs"
   ]
  },
  {
   "cell_type": "markdown",
   "metadata": {},
   "source": [
    "# Save Training Dataset"
   ]
  },
  {
   "cell_type": "code",
   "execution_count": 7,
   "metadata": {
    "scrolled": false
   },
   "outputs": [],
   "source": [
    "# Set processed data path\n",
    "processed_path = os.path.join(DATA_DIR, db_name, 'processed')\n",
    "\n",
    "# Create empty DataFrame\n",
    "labels = pd.DataFrame(data=[], columns=['db', 'record', 'label', 'sample', 'signal_id', 'train_label', 'file_name'])\n",
    "\n",
    "# Loop through samples\n",
    "for idx, sample in enumerate(samples):\n",
    "\n",
    "    # Set file name\n",
    "    file_name = '{}_{}_signal{}_sample{}.npy'.format(sample['db'], sample['record'], sample['waveform'], sample['sample'])\n",
    "    \n",
    "    # Get labels\n",
    "    labels = labels.append(pd.Series({'db': sample['db'], 'record': sample['record'], 'label': sample['label'], \n",
    "                                      'sample': sample['sample'], 'signal_id': sample['waveform'], \n",
    "                                      'train_label': 'N', 'file_name': file_name}), ignore_index=True)\n",
    "    \n",
    "    # Save waveform as .npy\n",
    "    np.save(os.path.join(processed_path, 'waveforms', file_name), sample['data'])\n",
    "    \n",
    "# Save labels\n",
    "labels.to_csv(os.path.join(processed_path, 'labels', 'labels.csv'), index=False)"
   ]
  }
 ],
 "metadata": {
  "kernelspec": {
   "display_name": "Python 3",
   "language": "python",
   "name": "python3"
  },
  "language_info": {
   "codemirror_mode": {
    "name": "ipython",
    "version": 3
   },
   "file_extension": ".py",
   "mimetype": "text/x-python",
   "name": "python",
   "nbconvert_exporter": "python",
   "pygments_lexer": "ipython3",
   "version": "3.6.7"
  }
 },
 "nbformat": 4,
 "nbformat_minor": 2
}
